{
 "cells": [
  {
   "cell_type": "markdown",
   "metadata": {},
   "source": [
    "# Clean up nn.ipynb code"
   ]
  },
  {
   "cell_type": "markdown",
   "metadata": {},
   "source": [
    "## Reader class"
   ]
  },
  {
   "cell_type": "code",
   "execution_count": 1,
   "metadata": {},
   "outputs": [
    {
     "name": "stderr",
     "output_type": "stream",
     "text": [
      "WARNING:root:Limited tf.compat.v2.summary API due to missing TensorBoard installation.\n",
      "WARNING:root:Limited tf.compat.v2.summary API due to missing TensorBoard installation.\n",
      "WARNING:root:Limited tf.compat.v2.summary API due to missing TensorBoard installation.\n",
      "WARNING:root:Limited tf.summary API due to missing TensorBoard installation.\n"
     ]
    }
   ],
   "source": [
    "import numpy as np\n",
    "import pandas as pd\n",
    "import seaborn as sns\n",
    "import matplotlib.pyplot as plt\n",
    "import os\n",
    "import keras\n",
    "from sklearn.model_selection import train_test_split\n",
    "from sklearn.preprocessing import LabelEncoder\n",
    "from sklearn.preprocessing import label_binarize\n",
    "from keras.models import Sequential\n",
    "from keras.layers import Dense\n",
    "from keras.layers import Dropout\n",
    "from keras.wrappers.scikit_learn import KerasClassifier\n",
    "from keras.utils import np_utils\n",
    "from sklearn.model_selection import cross_val_score\n",
    "from sklearn.model_selection import KFold\n",
    "from sklearn.preprocessing import LabelEncoder\n",
    "from sklearn.pipeline import Pipeline\n",
    "from keras.optimizers import SGD\n",
    "from keras.optimizers import Adam\n",
    "%matplotlib inline\n",
    "import time\n",
    "\n",
    "class Reader:\n",
    "    \"\"\"\n",
    "    Class that serves to read arff file(s) in the format given in the WISDM dataset.\n",
    "    Returns the data in a labelled pandas dataframe form.\n",
    "    \"\"\"\n",
    "    \n",
    "    def __init__(self, path, mode='f'):\n",
    "        \"\"\"\n",
    "        Upon instantiating the class, all methods will be run in the correct order and the dataframe\n",
    "        will be stored in the df attribute.\n",
    "        If mode='f', the reader will read a single arff file given a file path.\n",
    "        If mode='d', the reader will read all of the arff files in the given directory path.\n",
    "        \"\"\"\n",
    "        self.df = self.wrapper(path,mode)\n",
    "    \n",
    "    def readarff(self, filename,collect=True): #collect if you need to collect attribute names\n",
    "        \"\"\"\n",
    "        This method reads an arff file line-by-line and puts that file's data into a dataframe, and returns\n",
    "        that dataframe. \n",
    "        If collect=True, it will also collect column (\"attribute\") names and return those as well.\n",
    "        \"\"\"\n",
    "        with open(filename) as f:\n",
    "            content = f.read().splitlines()\n",
    "        data = False\n",
    "        metalist = [] # storets metadata as list of rows\n",
    "        datalist = [] # store data as list of rows\n",
    "        \n",
    "        # read data line-by-line\n",
    "        for line in content:\n",
    "            if data == True:\n",
    "                line = line.split(\",\")\n",
    "                datalist.append(line)\n",
    "            elif line == \"@data\":\n",
    "                data = True # read lines before \"@data\" as metadata and after as data\n",
    "            else:\n",
    "              # clean up metadata header\n",
    "              if collect:\n",
    "                line = line.replace(' \"', \".\")\n",
    "                line = line.replace('\" ', \".\")\n",
    "                line = line.replace(\" \",\"\")\n",
    "                line = line.split(\".\")\n",
    "                if len(line)==3: #ignore first two lines of file\n",
    "                    line = line[1:3] #remove repetitive \"@attribute\"\n",
    "                    metalist.append(line)\n",
    "        \n",
    "        # create dataframes from lists of rows\n",
    "        if not collect:\n",
    "            dataframe = pd.DataFrame(datalist,dtype=float)\n",
    "            return dataframe\n",
    "        else:\n",
    "            dataframe = pd.DataFrame(datalist,dtype=float)\n",
    "            metaframe = pd.DataFrame(metalist,columns=[\"attribute\",\"description\"])\n",
    "            attributes = metaframe[\"attribute\"].rename(\"SAMPLE\")\n",
    "            return dataframe, attributes\n",
    "    \n",
    "    def readdirectory(self, path,quiet=False): # make sure path ends in a slash\n",
    "        \"\"\"\n",
    "        Given a directory path, this method will call readarff() on all arff files in that directory.\n",
    "        It will then combine the data from all of those files into one dataframe, and return that dataframe.\n",
    "        \"\"\"\n",
    "        alldata = []\n",
    "        count = 0\n",
    "        for filename in os.listdir(path):\n",
    "            if filename.endswith(\".arff\"):\n",
    "                if count == 0: #only collect attributes once\n",
    "                    if not quiet:\n",
    "                          print(\"processing \"+filename+\"; collecting attribute names\")\n",
    "                    dataframe, attributes = self.readarff(path+filename)\n",
    "                    alldata.append(dataframe)\n",
    "                else:\n",
    "                    if not quiet:\n",
    "                        print(\"processing \"+filename)\n",
    "                    dataframe = self.readarff(path+filename,collect=False)\n",
    "                    alldata.append(dataframe)\n",
    "                count += 1\n",
    "                continue\n",
    "            else:\n",
    "                continue\n",
    "        if not quiet:\n",
    "            print(\"Concatenating data\")\n",
    "        alldata = pd.concat(alldata).reset_index(drop=True) #reset indices so it is continuous\n",
    "        alldata.columns = attributes #assign column names\n",
    "        return alldata\n",
    "    \n",
    "    def wrapper(self, path, mode='f'):\n",
    "        \"\"\" \n",
    "        This method decides whether to call readarff() or readdirectory() based on the value of 'mode'.\n",
    "        It also handles any errors that occur.\n",
    "        \"\"\"\n",
    "        if mode == 'f':\n",
    "            try:\n",
    "                df =  self.readarff(path, collect = True)\n",
    "                return df\n",
    "            except:\n",
    "                print(\"make sure you inputted the correct arff FILE path\")\n",
    "        elif mode == 'd':\n",
    "            try:\n",
    "                df =  self.readdirectory(path, quiet=True)\n",
    "                return df\n",
    "            except:\n",
    "                print(\"make sure you inputted the correct arff DIRECTORY path, ending with a slash\")\n",
    "        else:\n",
    "            print(\"mode must either be 'f' or 'd'\")\n",
    "            return 0"
   ]
  },
  {
   "cell_type": "markdown",
   "metadata": {},
   "source": [
    "## Model class"
   ]
  },
  {
   "cell_type": "code",
   "execution_count": 2,
   "metadata": {},
   "outputs": [],
   "source": [
    "class Model():\n",
    "    \n",
    "    def __init__(self, df):\n",
    "        \"\"\"\n",
    "        Accepts inputs and runs necessary methods to initiate the model.\n",
    "        Model contains the following attributes:\n",
    "        .df = pandas dataframe of attribute data\n",
    "        .X = independent data\n",
    "        .Y = dependent data, one hot encoded\n",
    "        .X_test, .X_train = split independent data\n",
    "        .Y_test, .Y_train = split dependent data\n",
    "        .model = Keras model format, outlining the layers of the model. To be used with KerasClassifier.\n",
    "        .estimator = Instance of KerasClassifier using .model, 500 epochs, 200 batch size\n",
    "        .results = List of k accuracy results from k-fold validation, if applicable\n",
    "        .history = estimator.fit() history from train/test validation, if applicable\n",
    "        .kfold = boolean for whether or not kfold is used, as opposed to a single train/test split\n",
    "        .final = True when the final model has been calculated\n",
    "        \"\"\"\n",
    "        self.df = df\n",
    "    \n",
    "    def preprocess(self, attributes, class_label, testsize):\n",
    "        \"\"\"\n",
    "        attributes = list of desired attribute names\n",
    "        class_label = string of the desired class label\n",
    "        \"\"\"\n",
    "        # define self.X\n",
    "        X = self.df[attributes]\n",
    "        self.X = np.array(X)\n",
    "        \n",
    "        # define self.Y\n",
    "        Y = self.df[class_label]\n",
    "        self.encoder = LabelEncoder() # encoder stores conversion between class values (str) and identifiers (int)\n",
    "        self. encoder.fit(Y)\n",
    "        Y = self.encoder.transform(Y)\n",
    "        self.Y = pd.get_dummies(Y) # convert to one hot encoded form\n",
    "        \n",
    "        # split into train and test sets\n",
    "        self.X_train, self.X_test, self.Y_train, self.Y_test = train_test_split(self.X, self.Y, test_size = testsize, stratify=self.Y, random_state=1)\n",
    "    \n",
    "    def baseline_model(self):\n",
    "        \"\"\"\n",
    "        Defines Keras model.\n",
    "        \"\"\"\n",
    "        model = Sequential()\n",
    "        \n",
    "        # define hyperparameter values\n",
    "        p_input = 0 # fraction of the inputs to dropout\n",
    "        p_hidden = 0.1 # fraction of the hidden layer nodes to dropout\n",
    "        \n",
    "        # input layer with dim = number of input attributes. Dropout applied.\n",
    "        model.add(Dense(self.X.shape[1], input_dim=self.X.shape[1], activation='relu'))\n",
    "        model.add(Dropout(p_input))\n",
    "        \n",
    "        # hidden layers with dim = 256, 128, and 64 (arbitrary). Each layer has dropout applied.\n",
    "        model.add(Dense(256, activation='relu'))\n",
    "        model.add(Dropout(p_hidden)) # dropout applied to first hidden layer\n",
    "        model.add(Dense(128, activation='relu'))\n",
    "        model.add(Dropout(p_hidden)) # dropout applied to second hidden layer\n",
    "        model.add(Dense(64, activation='relu'))\n",
    "        model.add(Dropout(p_hidden)) # dropout applied to third hidden layer.\n",
    "        \n",
    "        # output layer with dim = number of output classes, using softmax activation.\n",
    "        model.add(Dense(self.Y.shape[1], activation = 'softmax'))\n",
    "\n",
    "        # compile model with categorical_crossentropy loss and adam optimizer.\n",
    "        model.compile(loss='categorical_crossentropy', optimizer=\"adam\", metrics=['accuracy', \n",
    "                                                    keras.metrics.Precision(name=\"precision\"),\n",
    "                                                    keras.metrics.Recall(name=\"recall\")])\n",
    "        self.model = model\n",
    "        return model\n",
    "    \n",
    "    def train(self, kfold=True):\n",
    "        \"\"\" \n",
    "        Method to train the model and analyze results.\n",
    "        TODO: save model attributes somehow so that \n",
    "        \"\"\"\n",
    "        self.final = False\n",
    "        self.kfold = kfold\n",
    "        start_time = time.time()\n",
    "        self.estimator = KerasClassifier(build_fn=self.baseline_model, epochs=500, batch_size=200, verbose=0)\n",
    "        \n",
    "        if kfold:\n",
    "            # run k-fold validation, which is slow\n",
    "            # TODO use kfold.split() to get seperate test/train sets, then you can run estimator.fit()\n",
    "            # on those in the same way we use it below. That would allow us to plot history.\n",
    "            # Example: https://www.machinecurve.com/index.php/2020/02/18/how-to-use-k-fold-cross-validation-with-keras/\n",
    "            print(\"Using K-fold validation method to train model and calculate score\")\n",
    "            kfold = KFold(n_splits=4, shuffle=True)\n",
    "            results = cross_val_score(self.estimator, self.X, self.Y, cv=kfold)\n",
    "            print(\"Baseline: %.2f%% (%.2f%%)\" % (results.mean()*100, results.std()*100))\n",
    "            print(\"%s seconds\" % (time.time() - start_time))\n",
    "            self.results = results\n",
    "        \n",
    "        else:\n",
    "            # run train/test split, which is fast\n",
    "            print(\"Using training data to train model and testing data to calculate score\")\n",
    "            self.history = self.estimator.fit(self.X_train, self.Y_train, verbose = 0)\n",
    "            self.plot_history(self.history)\n",
    "            print(\"Test score: \"+str(self.estimator.score(self.X_test, self.Y_test)))\n",
    "            print(\"%s seconds\" % (time.time() - start_time))\n",
    "    \n",
    "    def finaltrain(self):\n",
    "        print(\"Using all data to train model\")\n",
    "        self.final = True\n",
    "        self.kfold = False\n",
    "        self.estimator = KerasClassifier(build_fn=self.baseline_model, epochs=500, batch_size=200, verbose=0)\n",
    "        self.history = self.estimator.fit(self.X, self.Y, verbose = 0)\n",
    "        self.plot_history(self.history)\n",
    "        print(\"Model finished. Access the model with the .estimator attribute.\")\n",
    "        \n",
    "    def evaluate(self):\n",
    "        \"\"\"\n",
    "        Method to look at accuracies on a class-basis using model created during train() and \n",
    "        accuracies collected from using test data.\n",
    "        TODO: Make this work for finaltrain, where there is no kfold\n",
    "        \"\"\"\n",
    "        if not self.kfold:\n",
    "            classes = {\"A\":\"Walking\",\"B\":\"Jogging\",\"C\":\"Stairs\",\"D\":\"Sitting\",\n",
    "               \"E\":\"Standing\",\"F\":\"Typing\",\"G\":\"Brushing teeth\",\"H\":\"Eating soup\",\n",
    "               \"I\":\"Eating chips\",\"J\":\"Eating pasta\",\"K\":\"Drinking from a cup\",\n",
    "               \"L\":\"Eating sandwich\",\"M\":\"Kicking (soccer ball)\",\"O\":\"Playing catch (with tennis ball)\",\n",
    "               \"P\":\"Dribbling (basketball)\", \"Q\":\"Writing\",\"R\":\"Clapping\",\"S\":\"Folding clothes\"}\n",
    "            \n",
    "            if self.final: # if evaluating the final model trained with finaltrain(), evaluate with all of the data\n",
    "                print(\"Model prediction accuracies, using all data:\")\n",
    "                print(\"=\"*61)\n",
    "                for i in self.encoder.classes_: # iterate through classes (string letters)\n",
    "                    j = self.encoder.transform([i])[0] # use indexer because .transform returns a list instead of an integer ex: [1] instead of 1\n",
    "                    idx = self.Y[j] # create reference array to only choose samples from the i'th (aka j'th) class\n",
    "                    X1 = self.X[idx==1]\n",
    "                    Y1 = self.Y[idx==1]\n",
    "                    print(classes[i], \"score:\",\"-\"*(40-len(classes[i])),str(self.estimator.score(X1, Y1)))\n",
    "            else: # if evaluating an intermediate model trained with train(), evaluate with testing and training data seperately\n",
    "                print(\"Model prediction accuracies, using test set of data:\")\n",
    "                print(\"=\"*61)\n",
    "                for i in self.encoder.classes_: # iterate through classes (string letters)\n",
    "                    j = self.encoder.transform([i])[0] # use indexer because .transform returns a list instead of an integer ex: [1] instead of 1\n",
    "                    idx = self.Y_test[j] # create reference array to only choose samples from the i'th (aka j'th) class\n",
    "                    X1 = self.X_test[idx==1]\n",
    "                    Y1 = self.Y_test[idx==1]\n",
    "                    print(classes[i], \"score:\",\"-\"*(40-len(classes[i])),str(self.estimator.score(X1, Y1)))\n",
    "                print(\"Model prediction accuracies, using train set of data:\")\n",
    "                print(\"=\"*61)\n",
    "                for i in self.encoder.classes_: # iterate through classes (string letters)\n",
    "                    j = self.encoder.transform([i])[0] # use indexer because .transform returns a list instead of an integer ex: [1] instead of 1\n",
    "                    idx = self.Y_train[j] # create reference array to only choose samples from the i'th (aka j'th) class\n",
    "                    X1 = self.X_train[idx==1]\n",
    "                    Y1 = self.Y_train[idx==1]\n",
    "                    print(classes[i], \"score:\",\"-\"*(40-len(classes[i])),str(self.estimator.score(X1, Y1)))\n",
    "        else:\n",
    "            print(\"Model evaluation is not supported for kfold-trained data. Try using .train(kfold=False) first.\")\n",
    "            \n",
    "    def plot_history(self, history):\n",
    "        \"\"\" \n",
    "        Method copied from https://www.kaggle.com/danbrice/keras-plot-history-full-report-and-grid-search\n",
    "        Displays evolution of loss and accuracy during training, given the history\n",
    "        \"\"\"\n",
    "        loss_list = [s for s in history.history.keys() if 'loss' in s and 'val' not in s]\n",
    "        val_loss_list = [s for s in history.history.keys() if 'loss' in s and 'val' in s]\n",
    "        acc_list = [s for s in history.history.keys() if 'acc' in s and 'val' not in s]\n",
    "        val_acc_list = [s for s in history.history.keys() if 'acc' in s and 'val' in s]\n",
    "\n",
    "        epochs = range(1,len(history.history[loss_list[0]]) + 1) # x values on graph\n",
    "\n",
    "        ## Loss\n",
    "        plt.figure(1)\n",
    "        for l in loss_list:\n",
    "            plt.plot(epochs, history.history[l], 'b', label='Training loss (' + str(str(format(history.history[l][-1],'.5f'))+')'))\n",
    "        for l in val_loss_list:\n",
    "            plt.plot(epochs, history.history[l], 'g', label='Validation loss (' + str(str(format(history.history[l][-1],'.5f'))+')'))\n",
    "\n",
    "        plt.title('Loss')\n",
    "        plt.xlabel('Epochs')\n",
    "        plt.ylabel('Loss')\n",
    "        plt.legend()\n",
    "\n",
    "        ## Accuracy\n",
    "        plt.figure(2)\n",
    "        for l in acc_list:\n",
    "            plt.plot(epochs, history.history[l], 'b', label='Training accuracy (' + str(format(history.history[l][-1],'.5f'))+')')\n",
    "        for l in val_acc_list:    \n",
    "            plt.plot(epochs, history.history[l], 'g', label='Validation accuracy (' + str(format(history.history[l][-1],'.5f'))+')')\n",
    "\n",
    "        plt.title('Accuracy')\n",
    "        plt.xlabel('Epochs')\n",
    "        plt.ylabel('Accuracy')\n",
    "        plt.legend()\n",
    "        plt.show()"
   ]
  },
  {
   "cell_type": "markdown",
   "metadata": {},
   "source": [
    "## Example using phone_accel data"
   ]
  },
  {
   "cell_type": "markdown",
   "metadata": {},
   "source": [
    "### Apply the Reader class:"
   ]
  },
  {
   "cell_type": "code",
   "execution_count": 3,
   "metadata": {},
   "outputs": [],
   "source": [
    "df = Reader(\"phone_accel/\",mode='d').df # read entire directory into dataframe"
   ]
  },
  {
   "cell_type": "markdown",
   "metadata": {},
   "source": [
    "### Apply the Model class:\n",
    "#### Evaluate model with 70/30 train/test split"
   ]
  },
  {
   "cell_type": "code",
   "execution_count": 4,
   "metadata": {},
   "outputs": [
    {
     "name": "stdout",
     "output_type": "stream",
     "text": [
      "Using training data to train model and testing data to calculate score\n"
     ]
    },
    {
     "data": {
      "image/png": "[encoded data removed]",
      "text/plain": [
       "<Figure size 432x288 with 1 Axes>"
      ]
     },
     "metadata": {
      "needs_background": "light"
     },
     "output_type": "display_data"
    },
    {
     "data": {
      "image/png": "[encoded data removed]",
      "text/plain": [
       "<Figure size 432x288 with 1 Axes>"
      ]
     },
     "metadata": {
      "needs_background": "light"
     },
     "output_type": "display_data"
    },
    {
     "name": "stdout",
     "output_type": "stream",
     "text": [
      "Test score: 0.8117867708206177\n",
      "136.34487509727478 seconds\n",
      "Model prediction accuracies, using test set of data:\n",
      "=============================================================\n",
      "Walking score: --------------------------------- 0.9501312375068665\n",
      "Jogging score: --------------------------------- 0.9441624283790588\n",
      "Stairs score: ---------------------------------- 0.8644067645072937\n",
      "Sitting score: --------------------------------- 0.8021107912063599\n",
      "Standing score: -------------------------------- 0.86753249168396\n",
      "Typing score: ---------------------------------- 0.8446327447891235\n",
      "Brushing teeth score: -------------------------- 0.8363636136054993\n",
      "Eating soup score: ----------------------------- 0.688829779624939\n",
      "Eating chips score: ---------------------------- 0.6415094137191772\n",
      "Eating pasta score: ---------------------------- 0.709039568901062\n",
      "Drinking from a cup score: --------------------- 0.7175572514533997\n",
      "Eating sandwich score: ------------------------- 0.7640750408172607\n",
      "Kicking (soccer ball) score: ------------------- 0.8613636493682861\n",
      "Playing catch (with tennis ball) score: -------- 0.7855477929115295\n",
      "Dribbling (basketball) score: ------------------ 0.7995283007621765\n",
      "Writing score: --------------------------------- 0.8682795763015747\n",
      "Clapping score: -------------------------------- 0.808398962020874\n",
      "Folding clothes score: ------------------------- 0.8465608358383179\n",
      "Model prediction accuracies, using train set of data:\n",
      "=============================================================\n",
      "Walking score: --------------------------------- 0.9988763928413391\n",
      "Jogging score: --------------------------------- 0.990217387676239\n",
      "Stairs score: ---------------------------------- 0.9842615127563477\n",
      "Sitting score: --------------------------------- 0.9524886608123779\n",
      "Standing score: -------------------------------- 0.9877505302429199\n",
      "Typing score: ---------------------------------- 0.9588377475738525\n",
      "Brushing teeth score: -------------------------- 0.9676700234413147\n",
      "Eating soup score: ----------------------------- 0.9155251383781433\n",
      "Eating chips score: ---------------------------- 0.9040462374687195\n",
      "Eating pasta score: ---------------------------- 0.9151515364646912\n",
      "Drinking from a cup score: --------------------- 0.9258451461791992\n",
      "Eating sandwich score: ------------------------- 0.9470655918121338\n",
      "Kicking (soccer ball) score: ------------------- 0.9844054579734802\n",
      "Playing catch (with tennis ball) score: -------- 0.9441117644309998\n",
      "Dribbling (basketball) score: ------------------ 0.95652174949646\n",
      "Writing score: --------------------------------- 0.9723820686340332\n",
      "Clapping score: -------------------------------- 0.9505062103271484\n",
      "Folding clothes score: ------------------------- 0.9841449856758118\n"
     ]
    }
   ],
   "source": [
    "# list attributes and label of choice\n",
    "attributes = ['X0', 'X1', 'X2', 'X3', 'X4', 'X5', 'X6', 'X7', 'X8', 'X9',\n",
    "       'Y0', 'Y1', 'Y2', 'Y3', 'Y4', 'Y5', 'Y6', 'Y7', 'Y8', 'Y9', 'Z0', 'Z1',\n",
    "       'Z2', 'Z3', 'Z4', 'Z5', 'Z6', 'Z7', 'Z8', 'Z9', 'XAVG', 'YAVG', 'ZAVG',\n",
    "       'XPEAK', 'YPEAK', 'ZPEAK', 'XABSOLDEV', 'YABSOLDEV', 'ZABSOLDEV',\n",
    "       'XSTANDDEV', 'YSTANDDEV', 'ZSTANDDEV', 'XVAR', 'YVAR', 'ZVAR', 'RESULTANT']\n",
    "label = 'ACTIVITY'\n",
    "testsize = 0.3 # use a 70/30 train/test split\n",
    "\n",
    "# initiate and run model\n",
    "model = Model(df)\n",
    "model.preprocess(attributes, label, testsize)\n",
    "model.train(kfold=False) # Use train/test split for training instead of kfold\n",
    "model.evaluate()\n",
    "estimator1 = model.estimator"
   ]
  },
  {
   "cell_type": "markdown",
   "metadata": {},
   "source": [
    "#### Now that we have evaluated our model and know it performs well, let's train a model using all of the data (instead of just 70% of it)"
   ]
  },
  {
   "cell_type": "code",
   "execution_count": 5,
   "metadata": {},
   "outputs": [
    {
     "name": "stdout",
     "output_type": "stream",
     "text": [
      "Using all data to train model\n"
     ]
    },
    {
     "data": {
      "image/png": "[encoded data removed]",
      "text/plain": [
       "<Figure size 432x288 with 1 Axes>"
      ]
     },
     "metadata": {
      "needs_background": "light"
     },
     "output_type": "display_data"
    },
    {
     "data": {
      "image/png": "[encoded data removed]",
      "text/plain": [
       "<Figure size 432x288 with 1 Axes>"
      ]
     },
     "metadata": {
      "needs_background": "light"
     },
     "output_type": "display_data"
    },
    {
     "name": "stdout",
     "output_type": "stream",
     "text": [
      "Model finished. Access the model with the .estimator attribute.\n",
      "Model prediction accuracies, using all data:\n",
      "=============================================================\n",
      "Walking score: --------------------------------- 0.9889850616455078\n",
      "Jogging score: --------------------------------- 0.9779300093650818\n",
      "Stairs score: ---------------------------------- 0.9601694941520691\n",
      "Sitting score: --------------------------------- 0.934283435344696\n",
      "Standing score: -------------------------------- 0.9618082642555237\n",
      "Typing score: ---------------------------------- 0.9601694941520691\n",
      "Brushing teeth score: -------------------------- 0.9695788025856018\n",
      "Eating soup score: ----------------------------- 0.9025558829307556\n",
      "Eating chips score: ---------------------------- 0.8891585469245911\n",
      "Eating pasta score: ---------------------------- 0.8541136384010315\n",
      "Drinking from a cup score: --------------------- 0.890839695930481\n",
      "Eating sandwich score: ------------------------- 0.9516907930374146\n",
      "Kicking (soccer ball) score: ------------------- 0.9849931597709656\n",
      "Playing catch (with tennis ball) score: -------- 0.903563916683197\n",
      "Dribbling (basketball) score: ------------------ 0.9447982907295227\n",
      "Writing score: --------------------------------- 0.9492344856262207\n",
      "Clapping score: -------------------------------- 0.9511811137199402\n",
      "Folding clothes score: ------------------------- 0.9698652029037476\n"
     ]
    }
   ],
   "source": [
    "finalmodel = Model(df)\n",
    "finalmodel.preprocess(attributes, label, testsize)\n",
    "finalmodel.finaltrain() # Use train/test split for training instead of kfold\n",
    "finalmodel.evaluate()\n",
    "final = model.estimator # this is our final saved model that is trained on all of the data"
   ]
  },
  {
   "cell_type": "markdown",
   "metadata": {},
   "source": [
    "#### Evaluate model with 4-fold validation"
   ]
  },
  {
   "cell_type": "code",
   "execution_count": 6,
   "metadata": {},
   "outputs": [
    {
     "name": "stdout",
     "output_type": "stream",
     "text": [
      "Using K-fold validation method to train model and calculate score\n",
      "Baseline: 81.82% (0.77%)\n",
      "588.8869280815125 seconds\n",
      "Model evaluation is not supported for kfold-trained data. Try using .train(kfold=False) first.\n"
     ]
    }
   ],
   "source": [
    "model2 = Model(df)\n",
    "model2.preprocess(attributes, label, testsize)\n",
    "\n",
    "# use 4-fold validation (kfold method), which is basically averaging 4 seperate 75/25 split prediction scores\n",
    "model2.train(kfold=True) \n",
    "\n",
    "model2.evaluate() \n",
    "# .evaluate() doesn't work with kfold=True because kfold might not properly prepare\n",
    "# model2.estimator for scoring. I'm not sure which kfold it would use for scoring, or maybe a combo? Should try\n",
    "# and implement kfolding manually.\n",
    "\n",
    "estimator2 = model.estimator"
   ]
  },
  {
   "cell_type": "code",
   "execution_count": null,
   "metadata": {},
   "outputs": [],
   "source": []
  }
 ],
 "metadata": {
  "kernelspec": {
   "display_name": "Python 3",
   "language": "python",
   "name": "python3"
  },
  "language_info": {
   "codemirror_mode": {
    "name": "ipython",
    "version": 3
   },
   "file_extension": ".py",
   "mimetype": "text/x-python",
   "name": "python",
   "nbconvert_exporter": "python",
   "pygments_lexer": "ipython3",
   "version": "3.7.6"
  }
 },
 "nbformat": 4,
 "nbformat_minor": 4
}
